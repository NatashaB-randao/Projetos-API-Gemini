{
 "cells": [
  {
   "cell_type": "code",
   "execution_count": 1,
   "metadata": {},
   "outputs": [
    {
     "name": "stderr",
     "output_type": "stream",
     "text": [
      "c:\\Users\\natas\\AppData\\Local\\Programs\\Python\\Python313\\Lib\\site-packages\\tqdm\\auto.py:21: TqdmWarning: IProgress not found. Please update jupyter and ipywidgets. See https://ipywidgets.readthedocs.io/en/stable/user_install.html\n",
      "  from .autonotebook import tqdm as notebook_tqdm\n"
     ]
    }
   ],
   "source": [
    "# Importa a biblioteca do Google Generative AI\n",
    "import google.generativeai as genai"
   ]
  },
  {
   "cell_type": "code",
   "execution_count": null,
   "metadata": {},
   "outputs": [],
   "source": [
    "# Configura a chave da API para autenticar as solicitações\n",
    "genai.configure(api_key=\"Sua Chave Aqui\")"
   ]
  },
  {
   "cell_type": "code",
   "execution_count": 3,
   "metadata": {},
   "outputs": [
    {
     "name": "stdout",
     "output_type": "stream",
     "text": [
      "models/gemini-1.0-pro-latest\n",
      "models/gemini-1.0-pro\n",
      "models/gemini-pro\n",
      "models/gemini-1.0-pro-001\n",
      "models/gemini-1.0-pro-vision-latest\n",
      "models/gemini-pro-vision\n",
      "models/gemini-1.5-pro-latest\n",
      "models/gemini-1.5-pro-001\n",
      "models/gemini-1.5-pro-002\n",
      "models/gemini-1.5-pro\n",
      "models/gemini-1.5-pro-exp-0801\n",
      "models/gemini-1.5-pro-exp-0827\n",
      "models/gemini-1.5-flash-latest\n",
      "models/gemini-1.5-flash-001\n",
      "models/gemini-1.5-flash-001-tuning\n",
      "models/gemini-1.5-flash\n",
      "models/gemini-1.5-flash-exp-0827\n",
      "models/gemini-1.5-flash-002\n",
      "models/gemini-1.5-flash-8b\n",
      "models/gemini-1.5-flash-8b-001\n",
      "models/gemini-1.5-flash-8b-latest\n",
      "models/gemini-1.5-flash-8b-exp-0827\n",
      "models/gemini-1.5-flash-8b-exp-0924\n",
      "models/learnlm-1.5-pro-experimental\n",
      "models/gemini-exp-1114\n",
      "models/gemini-exp-1121\n"
     ]
    }
   ],
   "source": [
    "# Lista todos os modelos disponíveis na API\n",
    "for m in genai.list_models():\n",
    "    # Verifica se o modelo suporta a geração de conteúdo\n",
    "    if 'generateContent' in m.supported_generation_methods:\n",
    "        # Imprime o nome do modelo que suporta geração de conteúdo\n",
    "        print(m.name)"
   ]
  },
  {
   "cell_type": "code",
   "execution_count": 4,
   "metadata": {},
   "outputs": [],
   "source": [
    "# Cria uma instância do modelo generativo específico 'gemini-pro'\n",
    "model = genai.GenerativeModel('gemini-pro')"
   ]
  },
  {
   "cell_type": "code",
   "execution_count": 6,
   "metadata": {},
   "outputs": [
    {
     "name": "stdout",
     "output_type": "stream",
     "text": [
      "Al Pacino é um ator americano amplamente considerado um dos maiores atores de todos os tempos.\n",
      "\n",
      "**Biografia:**\n",
      "\n",
      "* Nome completo: Alfredo James Pacino\n",
      "* Nascimento: 25 de abril de 1940, East Harlem, Nova York, EUA\n",
      "* Ocupação: Ator\n",
      "\n",
      "**Carreira:**\n",
      "\n",
      "* Pacino começou sua carreira no teatro no início dos anos 1960.\n",
      "* Ganhou fama internacional por seu papel icônico como Michael Corleone na trilogia \"O Poderoso Chefão\" (1972, 1974, 1990).\n",
      "* Outros papéis notáveis incluem:\n",
      "    * Sonny Wordlaw em \"Um Dia de Cão\" (1975)\n",
      "    * Tony Montana em \"Scarface\" (1983)\n",
      "    * Frank Serpico em \"Serpico\" (1973)\n",
      "    * Roy Cohn em \"Anjos na América\" (2003)\n",
      "\n",
      "**Prêmios e Reconhecimentos:**\n",
      "\n",
      "* Pacino é um dos atores mais premiados da história do cinema.\n",
      "* Ganhou 8 Globos de Ouro, 2 Oscars, 2 Tony Awards e 2 British Academy Film Awards.\n",
      "* Em 1996, recebeu a Medalha Presidencial da Liberdade.\n",
      "\n",
      "**Estilo de Atuação:**\n",
      "\n",
      "* Pacino é conhecido por suas performances intensas, emocionais e muitas vezes voláteis.\n",
      "* Seus personagens são frequentemente complexos, cheios de contradições e propensos a explosões violentas.\n",
      "* Ele é considerado um mestre da técnica de atuação \"Método\".\n",
      "\n",
      "**Vida Pessoal:**\n",
      "\n",
      "* Pacino tem três filhos de relacionamentos diferentes.\n",
      "* Ele é conhecido por ser discreto sobre sua vida pessoal.\n",
      "\n",
      "Al Pacino continua a ser uma figura icônica na indústria cinematográfica, inspirando gerações de atores com seu talento excepcional e compromisso inabalável com a arte de atuar.\n"
     ]
    }
   ],
   "source": [
    "# Gera conteúdo com base na pergunta\n",
    "response = model.generate_content(\"Quem é Al Pacino?\")\n",
    "\n",
    "# Imprime o texto da resposta gerada pela API\n",
    "print(response.text)"
   ]
  }
 ],
 "metadata": {
  "kernelspec": {
   "display_name": "Python 3",
   "language": "python",
   "name": "python3"
  },
  "language_info": {
   "codemirror_mode": {
    "name": "ipython",
    "version": 3
   },
   "file_extension": ".py",
   "mimetype": "text/x-python",
   "name": "python",
   "nbconvert_exporter": "python",
   "pygments_lexer": "ipython3",
   "version": "3.13.0"
  }
 },
 "nbformat": 4,
 "nbformat_minor": 2
}
